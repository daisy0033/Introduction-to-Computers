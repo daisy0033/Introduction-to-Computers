{
  "nbformat": 4,
  "nbformat_minor": 0,
  "metadata": {
    "colab": {
      "name": "0509.ipynb",
      "provenance": [],
      "authorship_tag": "ABX9TyO3WQQGOwKUwi6k/LJqnChT",
      "include_colab_link": true
    },
    "kernelspec": {
      "name": "python3",
      "display_name": "Python 3"
    },
    "language_info": {
      "name": "python"
    }
  },
  "cells": [
    {
      "cell_type": "markdown",
      "metadata": {
        "id": "view-in-github",
        "colab_type": "text"
      },
      "source": [
        "<a href=\"https://colab.research.google.com/github/daisy0033/Introduction-to-Computers/blob/main/0509.ipynb\" target=\"_parent\"><img src=\"https://colab.research.google.com/assets/colab-badge.svg\" alt=\"Open In Colab\"/></a>"
      ]
    },
    {
      "cell_type": "code",
      "execution_count": 7,
      "metadata": {
        "colab": {
          "base_uri": "https://localhost:8080/"
        },
        "id": "hFUwb53W7jTl",
        "outputId": "8a62b1ea-7739-4c72-e367-cf67fe5b6523"
      },
      "outputs": [
        {
          "output_type": "stream",
          "name": "stdout",
          "text": [
            "請輸入你的體溫35\n",
            "體溫正常!\n"
          ]
        }
      ],
      "source": [
        "temp=float(input(\"請輸入你的體溫\"))\n",
        "if temp>=37.5:\n",
        "  print(\"體溫過高!\")\n",
        "elif temp>=37 and temp<37.4:\n",
        "  print(\"體溫略高!\")\n",
        "elif temp>=34 and temp<36.9:\n",
        "  print(\"體溫正常!\")\n",
        "else:\n",
        "  print(\"體溫異常,請重新量測!\")\n",
        "\n"
      ]
    },
    {
      "cell_type": "code",
      "source": [
        "score=input(\"請輸入成績\")\n",
        "if (int(score)>=90):\n",
        "  print(\"A\")\n",
        "elif (int(score)>=80):\n",
        "  print(\"B\")\n",
        "elif (int(score)>=70):\n",
        "  print(\"C\")\n",
        "elif (int(score)>=60):\n",
        "  print(\"D\")\n",
        "else:\n",
        "  print(\"E\")"
      ],
      "metadata": {
        "colab": {
          "base_uri": "https://localhost:8080/"
        },
        "id": "AQvKMoeW_gSK",
        "outputId": "d9faf74e-ec0f-4ca6-a8a8-ddabadc16717"
      },
      "execution_count": 13,
      "outputs": [
        {
          "output_type": "stream",
          "name": "stdout",
          "text": [
            "請輸入成績85\n",
            "B\n"
          ]
        }
      ]
    },
    {
      "cell_type": "code",
      "source": [
        "money=int(input(\"請輸入購物金額:\"))\n",
        "if (money>=10000):\n",
        "  if(money>=100000):\n",
        "    print(\"八折\", money*0.8, end=\"元\\n\")\n",
        "  elif (money>=50000):\n",
        "    print(\"八五折\", money*0.85, end=\"元\\n\")\n",
        "  elif (money>=30000):\n",
        "    print(\"九折\", money*0.9, end=\"元\\n\")\n",
        "  elif (money>=10000):\n",
        "    print(\"九五折\", money*0.95, end=\"元\\n\")\n",
        "else:\n",
        "  print(\"沒打折\",money, end=\"元\\n\")"
      ],
      "metadata": {
        "colab": {
          "base_uri": "https://localhost:8080/"
        },
        "id": "UB-3KE6nEv2U",
        "outputId": "f6e3c959-7ea3-4426-d856-db0e78289964"
      },
      "execution_count": 16,
      "outputs": [
        {
          "output_type": "stream",
          "name": "stdout",
          "text": [
            "請輸入購物金額:56664\n",
            "八五折 48164.4元\n"
          ]
        }
      ]
    },
    {
      "cell_type": "code",
      "source": [
        "month=int(input(\"請輸入月份:\"))\n",
        "if (month>=3 and month<=5):\n",
        "  print(month,\"月是春天!\")\n",
        "elif (month>=6 and month<=8):\n",
        "  print(month,\"月是夏天!\")\n",
        "elif (month>=9 and month<=11):\n",
        "  print(month,\"月是秋天!\")\n",
        "elif (month==12 or month<=2 and month>=1):\n",
        "  print(month,\"月是冬天!\")\n",
        "else:\n",
        "  print(\"月份不再範圍內!\")"
      ],
      "metadata": {
        "colab": {
          "base_uri": "https://localhost:8080/"
        },
        "id": "tsdu_uLeHXhq",
        "outputId": "fd834b5c-0edc-4223-aee6-32556c6e59f8"
      },
      "execution_count": 21,
      "outputs": [
        {
          "output_type": "stream",
          "name": "stdout",
          "text": [
            "請輸入月份:9\n",
            "9 月是秋天!\n"
          ]
        }
      ]
    },
    {
      "cell_type": "code",
      "source": [
        "money=int(input(\"請輸入今年收入淨額:\"))\n",
        "if (money>=300000):\n",
        "  if (money>=2000000):\n",
        "    print(\"付稅金額:\",money*0.3, end=\"元\\n\")\n",
        "  elif (money>=1000000):\n",
        "    print(\"付稅金額:\",money*0.21, end=\"元\\n\")\n",
        "  elif (money>=600000):\n",
        "    print(\"付稅金額:\",money*0.13, end=\"元\\n\")\n",
        "  elif (money>=300000):\n",
        "    print(\"付稅金額:\",money*0.06, end=\"元\\n\")\n",
        "else:\n",
        "  print(\"付稅金額: 0\", end=\"元\\n\")"
      ],
      "metadata": {
        "colab": {
          "base_uri": "https://localhost:8080/"
        },
        "id": "W9KaWehuJvUC",
        "outputId": "c4cd8088-25e3-4957-a7a7-a39a01dfe73f"
      },
      "execution_count": 24,
      "outputs": [
        {
          "output_type": "stream",
          "name": "stdout",
          "text": [
            "請輸入今年收入淨額:2000000\n",
            "付稅金額: 600000.0元\n"
          ]
        }
      ]
    }
  ]
}