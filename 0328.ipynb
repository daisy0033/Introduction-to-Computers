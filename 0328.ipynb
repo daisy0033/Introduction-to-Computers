{
  "nbformat": 4,
  "nbformat_minor": 0,
  "metadata": {
    "colab": {
      "name": "0328.ipynb",
      "provenance": [],
      "authorship_tag": "ABX9TyOjBNtx134CUDpqXPbCagA4",
      "include_colab_link": true
    },
    "kernelspec": {
      "name": "python3",
      "display_name": "Python 3"
    },
    "language_info": {
      "name": "python"
    }
  },
  "cells": [
    {
      "cell_type": "markdown",
      "metadata": {
        "id": "view-in-github",
        "colab_type": "text"
      },
      "source": [
        "<a href=\"https://colab.research.google.com/github/daisy0033/Introduction-to-Computers/blob/main/0328.ipynb\" target=\"_parent\"><img src=\"https://colab.research.google.com/assets/colab-badge.svg\" alt=\"Open In Colab\"/></a>"
      ]
    },
    {
      "cell_type": "code",
      "execution_count": 47,
      "metadata": {
        "colab": {
          "base_uri": "https://localhost:8080/"
        },
        "id": "G-ibl12DmfNT",
        "outputId": "145a8922-1f7e-46c6-8b0c-81935ffe2866"
      },
      "outputs": [
        {
          "output_type": "execute_result",
          "data": {
            "text/plain": [
              "9"
            ]
          },
          "metadata": {},
          "execution_count": 47
        }
      ],
      "source": [
        "4+5"
      ]
    },
    {
      "cell_type": "code",
      "source": [
        "9-3"
      ],
      "metadata": {
        "colab": {
          "base_uri": "https://localhost:8080/"
        },
        "id": "zDnbHEANoVYY",
        "outputId": "e6dc7f88-b57a-4de8-aaab-dd18919d6987"
      },
      "execution_count": 48,
      "outputs": [
        {
          "output_type": "execute_result",
          "data": {
            "text/plain": [
              "6"
            ]
          },
          "metadata": {},
          "execution_count": 48
        }
      ]
    },
    {
      "cell_type": "code",
      "source": [
        "5*4"
      ],
      "metadata": {
        "colab": {
          "base_uri": "https://localhost:8080/"
        },
        "id": "-Wry9SjxoYmr",
        "outputId": "1a3d0dcb-d708-4f30-a80e-ed0bbe8a7155"
      },
      "execution_count": 49,
      "outputs": [
        {
          "output_type": "execute_result",
          "data": {
            "text/plain": [
              "20"
            ]
          },
          "metadata": {},
          "execution_count": 49
        }
      ]
    },
    {
      "cell_type": "code",
      "source": [
        "5/3"
      ],
      "metadata": {
        "colab": {
          "base_uri": "https://localhost:8080/"
        },
        "id": "Hvbsdss8obRX",
        "outputId": "1fa8cc92-1635-4b00-a2fe-69f769e63b41"
      },
      "execution_count": 11,
      "outputs": [
        {
          "output_type": "execute_result",
          "data": {
            "text/plain": [
              "1.6666666666666667"
            ]
          },
          "metadata": {},
          "execution_count": 11
        }
      ]
    },
    {
      "cell_type": "code",
      "source": [
        "5//3"
      ],
      "metadata": {
        "colab": {
          "base_uri": "https://localhost:8080/"
        },
        "id": "uYv4c57spons",
        "outputId": "7aa975d9-3a06-4205-8706-946a725dcd5c"
      },
      "execution_count": 15,
      "outputs": [
        {
          "output_type": "execute_result",
          "data": {
            "text/plain": [
              "1"
            ]
          },
          "metadata": {},
          "execution_count": 15
        }
      ]
    },
    {
      "cell_type": "code",
      "source": [
        "5%3"
      ],
      "metadata": {
        "colab": {
          "base_uri": "https://localhost:8080/"
        },
        "id": "Pd3qCoFJppAi",
        "outputId": "f506f27c-73eb-4e05-b7af-c0b235a351e2"
      },
      "execution_count": 16,
      "outputs": [
        {
          "output_type": "execute_result",
          "data": {
            "text/plain": [
              "2"
            ]
          },
          "metadata": {},
          "execution_count": 16
        }
      ]
    },
    {
      "cell_type": "code",
      "source": [
        "5**3"
      ],
      "metadata": {
        "colab": {
          "base_uri": "https://localhost:8080/"
        },
        "id": "y5kH_cpXpt9w",
        "outputId": "5fe45d0a-f16f-44c7-daa8-dc04348b2e28"
      },
      "execution_count": 17,
      "outputs": [
        {
          "output_type": "execute_result",
          "data": {
            "text/plain": [
              "125"
            ]
          },
          "metadata": {},
          "execution_count": 17
        }
      ]
    },
    {
      "cell_type": "code",
      "source": [
        "上底=int(input(\"請輸入梯形上底長度\"))\n",
        "下底=int(input(\"請輸入梯形下底長度\"))\n",
        "高=int(input(\"請輸入梯形的高度\"))\n",
        "面積=(上底+下底)*高/2\n",
        "print(\"梯形上底長度為:\",上底,\"梯形下底長度為:\",下底,\"梯形高度為:\",高,\"梯形面積為:\",面積)"
      ],
      "metadata": {
        "colab": {
          "base_uri": "https://localhost:8080/"
        },
        "id": "bLxHmmPVoda6",
        "outputId": "e95aa451-099a-4e5c-f52d-2d224de06bc4"
      },
      "execution_count": 20,
      "outputs": [
        {
          "output_type": "stream",
          "name": "stdout",
          "text": [
            "請輸入梯形上底長度3\n",
            "請輸入梯形下底長度4\n",
            "請輸入梯形的高度3\n",
            "梯形上底長度為: 3 梯形下底長度為: 4 梯形高度為: 3 梯形面積為: 10.5\n"
          ]
        }
      ]
    },
    {
      "cell_type": "code",
      "source": [
        "面積"
      ],
      "metadata": {
        "colab": {
          "base_uri": "https://localhost:8080/"
        },
        "id": "bmnI_FgVplZu",
        "outputId": "a979af72-50d9-457d-8d18-6ceb5efc6cb2"
      },
      "execution_count": 14,
      "outputs": [
        {
          "output_type": "execute_result",
          "data": {
            "text/plain": [
              "10.5"
            ]
          },
          "metadata": {},
          "execution_count": 14
        }
      ]
    },
    {
      "cell_type": "code",
      "source": [
        "print(\"梯形上底長度為:%d,梯形下底長度為:%d,梯形高度為:%d,梯形面積為:%d\"%(上底,下底,高,面積))"
      ],
      "metadata": {
        "colab": {
          "base_uri": "https://localhost:8080/"
        },
        "id": "BwfJZeUnqYdM",
        "outputId": "9885a7fa-b648-475a-cf6e-9a75567c416a"
      },
      "execution_count": 21,
      "outputs": [
        {
          "output_type": "stream",
          "name": "stdout",
          "text": [
            "梯形上底長度為:3,梯形下底長度為:4,梯形高度為:3,梯形面積為:10\n"
          ]
        }
      ]
    },
    {
      "cell_type": "code",
      "source": [
        "print(\"梯形上底長度為:%d,梯形下底長度為:%d,梯形高度為:%d,梯形面積為:%f\"%(上底,下底,高,面積))"
      ],
      "metadata": {
        "colab": {
          "base_uri": "https://localhost:8080/"
        },
        "id": "48l0B1kaur4X",
        "outputId": "de0bf119-db84-492f-d309-36d4466b7d22"
      },
      "execution_count": 22,
      "outputs": [
        {
          "output_type": "stream",
          "name": "stdout",
          "text": [
            "梯形上底長度為:3,梯形下底長度為:4,梯形高度為:3,梯形面積為:10.500000\n"
          ]
        }
      ]
    },
    {
      "cell_type": "code",
      "source": [
        "print(\"梯形上底長度為:%d,梯形下底長度為:%d,梯形高度為:%d,梯形面積為:%0.1f\"%(上底,下底,高,面積))"
      ],
      "metadata": {
        "colab": {
          "base_uri": "https://localhost:8080/"
        },
        "id": "loslb1NHvZqS",
        "outputId": "2c0e602d-cc60-4aa5-990e-a0e5766f9101"
      },
      "execution_count": 25,
      "outputs": [
        {
          "output_type": "stream",
          "name": "stdout",
          "text": [
            "梯形上底長度為:3,梯形下底長度為:4,梯形高度為:3,梯形面積為:10.5\n"
          ]
        }
      ]
    },
    {
      "cell_type": "code",
      "source": [
        "a=1.1\n",
        "b=2.02\n",
        "c=3.003\n",
        "print(\"a=%0.1f,b=%0.2f,c=%0.3f\"%(a,b,c))"
      ],
      "metadata": {
        "colab": {
          "base_uri": "https://localhost:8080/"
        },
        "id": "6s6Z7DbHyipr",
        "outputId": "b91cef40-3dd5-4ed3-9639-4ce99ef837e4"
      },
      "execution_count": 28,
      "outputs": [
        {
          "output_type": "stream",
          "name": "stdout",
          "text": [
            "a=1.1,b=2.02,c=3.003\n"
          ]
        }
      ]
    },
    {
      "cell_type": "code",
      "source": [
        "身高=int(input(\"請輸入您的身高(cm)\"))\n",
        "體重=int(input(\"請輸入您的體重(kg)\"))\n",
        "BMI=體重/(身高/100)**2\n",
        "print(\"身高%d公分,體重%d公斤,BMI值為%0.2f\"%(身高,體重,BMI))"
      ],
      "metadata": {
        "colab": {
          "base_uri": "https://localhost:8080/"
        },
        "id": "5KOBP7hOzctV",
        "outputId": "e3c70477-9b64-4b0c-b72f-5c84a2e9cf8b"
      },
      "execution_count": 34,
      "outputs": [
        {
          "output_type": "stream",
          "name": "stdout",
          "text": [
            "請輸入您的身高(cm)180\n",
            "請輸入您的體重(kg)80\n",
            "身高180公分,體重80公斤,BMI值為24.69\n"
          ]
        }
      ]
    },
    {
      "cell_type": "code",
      "source": [
        "6+9==2+13"
      ],
      "metadata": {
        "colab": {
          "base_uri": "https://localhost:8080/"
        },
        "id": "PSqK3aeK489a",
        "outputId": "01a56fc5-7e1b-4e65-be8e-4f2a0ec37863"
      },
      "execution_count": 35,
      "outputs": [
        {
          "output_type": "execute_result",
          "data": {
            "text/plain": [
              "True"
            ]
          },
          "metadata": {},
          "execution_count": 35
        }
      ]
    },
    {
      "cell_type": "code",
      "source": [
        "8+9==2+13"
      ],
      "metadata": {
        "colab": {
          "base_uri": "https://localhost:8080/"
        },
        "id": "V0NCUaGq5Dxa",
        "outputId": "6dd78dc0-9337-49dc-9ed7-2a32ef4c52ba"
      },
      "execution_count": 36,
      "outputs": [
        {
          "output_type": "execute_result",
          "data": {
            "text/plain": [
              "False"
            ]
          },
          "metadata": {},
          "execution_count": 36
        }
      ]
    },
    {
      "cell_type": "code",
      "source": [
        "8+9>2+13"
      ],
      "metadata": {
        "colab": {
          "base_uri": "https://localhost:8080/"
        },
        "id": "INhI-4tT5HAq",
        "outputId": "f3d3d0db-b49f-454f-8a50-d6bd42d67e83"
      },
      "execution_count": 37,
      "outputs": [
        {
          "output_type": "execute_result",
          "data": {
            "text/plain": [
              "True"
            ]
          },
          "metadata": {},
          "execution_count": 37
        }
      ]
    },
    {
      "cell_type": "code",
      "source": [
        "6+9>2+13"
      ],
      "metadata": {
        "colab": {
          "base_uri": "https://localhost:8080/"
        },
        "id": "FanqY4XE5Lix",
        "outputId": "2b47015e-570f-4b01-fa45-b2a5ec5f8497"
      },
      "execution_count": 40,
      "outputs": [
        {
          "output_type": "execute_result",
          "data": {
            "text/plain": [
              "False"
            ]
          },
          "metadata": {},
          "execution_count": 40
        }
      ]
    },
    {
      "cell_type": "code",
      "source": [
        "5+9<2+13"
      ],
      "metadata": {
        "colab": {
          "base_uri": "https://localhost:8080/"
        },
        "id": "Yh-j2lEQ5Sjh",
        "outputId": "71736131-a044-4923-a91d-b021f6c854e8"
      },
      "execution_count": 41,
      "outputs": [
        {
          "output_type": "execute_result",
          "data": {
            "text/plain": [
              "True"
            ]
          },
          "metadata": {},
          "execution_count": 41
        }
      ]
    },
    {
      "cell_type": "code",
      "source": [
        "8+9<2+13"
      ],
      "metadata": {
        "colab": {
          "base_uri": "https://localhost:8080/"
        },
        "id": "WPhmn87y5Swo",
        "outputId": "5fa12ec8-4c94-4dd0-9088-8ed3e04389bf"
      },
      "execution_count": 42,
      "outputs": [
        {
          "output_type": "execute_result",
          "data": {
            "text/plain": [
              "False"
            ]
          },
          "metadata": {},
          "execution_count": 42
        }
      ]
    },
    {
      "cell_type": "code",
      "source": [
        "6+9>=2+13"
      ],
      "metadata": {
        "colab": {
          "base_uri": "https://localhost:8080/"
        },
        "id": "aVr1vwYe5Yh0",
        "outputId": "cf0e4e31-9c09-4f9d-9f73-51ffd0cb858b"
      },
      "execution_count": 43,
      "outputs": [
        {
          "output_type": "execute_result",
          "data": {
            "text/plain": [
              "True"
            ]
          },
          "metadata": {},
          "execution_count": 43
        }
      ]
    },
    {
      "cell_type": "code",
      "source": [
        "3+9>=2+13"
      ],
      "metadata": {
        "colab": {
          "base_uri": "https://localhost:8080/"
        },
        "id": "od6y9gV45YpA",
        "outputId": "4312d7c3-d3de-4256-af2e-c78c4c065a45"
      },
      "execution_count": 44,
      "outputs": [
        {
          "output_type": "execute_result",
          "data": {
            "text/plain": [
              "False"
            ]
          },
          "metadata": {},
          "execution_count": 44
        }
      ]
    },
    {
      "cell_type": "code",
      "source": [
        "3+9<=2+13"
      ],
      "metadata": {
        "colab": {
          "base_uri": "https://localhost:8080/"
        },
        "id": "JhZ_yEAs5gcW",
        "outputId": "c41f836f-be76-4777-996f-6556c9f21beb"
      },
      "execution_count": 45,
      "outputs": [
        {
          "output_type": "execute_result",
          "data": {
            "text/plain": [
              "True"
            ]
          },
          "metadata": {},
          "execution_count": 45
        }
      ]
    },
    {
      "cell_type": "code",
      "source": [
        "8+9<=2+13"
      ],
      "metadata": {
        "colab": {
          "base_uri": "https://localhost:8080/"
        },
        "id": "cg6knnly5gkd",
        "outputId": "015d331f-13b2-44e4-b5b1-292fc3296d7f"
      },
      "execution_count": 46,
      "outputs": [
        {
          "output_type": "execute_result",
          "data": {
            "text/plain": [
              "False"
            ]
          },
          "metadata": {},
          "execution_count": 46
        }
      ]
    }
  ]
}